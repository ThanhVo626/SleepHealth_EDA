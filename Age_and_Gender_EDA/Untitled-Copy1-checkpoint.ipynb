{
 "cells": [
  {
   "cell_type": "code",
   "execution_count": 5,
   "id": "a202106e",
   "metadata": {},
   "outputs": [],
   "source": [
    "import pandas as pd\n",
    "import matplotlib.pyplot as plt\n",
    "\n",
    "df = pd.read_csv(\"Sleep_health_and_lifestyle_dataset.csv\")\n"
   ]
  },
  {
   "cell_type": "code",
   "execution_count": 10,
   "id": "06fa4564",
   "metadata": {},
   "outputs": [
    {
     "name": "stdout",
     "output_type": "stream",
     "text": [
      "8.5\n"
     ]
    }
   ],
   "source": [
    "max_sleep_duration = df['Sleep Duration'].max()\n",
    "print(max_sleep_duration)"
   ]
  },
  {
   "cell_type": "code",
   "execution_count": 15,
   "id": "4f47dc06",
   "metadata": {},
   "outputs": [
    {
     "name": "stdout",
     "output_type": "stream",
     "text": [
      "     Person ID  Gender  Age Occupation  Sleep Duration  Quality of Sleep  \\\n",
      "298        299  Female   51   Engineer             8.5                 9   \n",
      "299        300  Female   51   Engineer             8.5                 9   \n",
      "300        301  Female   51   Engineer             8.5                 9   \n",
      "301        302  Female   51   Engineer             8.5                 9   \n",
      "316        317  Female   53   Engineer             8.5                 9   \n",
      "317        318  Female   53   Engineer             8.5                 9   \n",
      "320        321  Female   53   Engineer             8.5                 9   \n",
      "323        324  Female   53   Engineer             8.5                 9   \n",
      "325        326  Female   53   Engineer             8.5                 9   \n",
      "327        328  Female   53   Engineer             8.5                 9   \n",
      "329        330  Female   53   Engineer             8.5                 9   \n",
      "330        331  Female   53   Engineer             8.5                 9   \n",
      "338        339  Female   54   Engineer             8.5                 9   \n",
      "\n",
      "     Physical Activity Level  Stress Level BMI Category Blood Pressure  \\\n",
      "298                       30             3       Normal         125/80   \n",
      "299                       30             3       Normal         125/80   \n",
      "300                       30             3       Normal         125/80   \n",
      "301                       30             3       Normal         125/80   \n",
      "316                       30             3       Normal         125/80   \n",
      "317                       30             3       Normal         125/80   \n",
      "320                       30             3       Normal         125/80   \n",
      "323                       30             3       Normal         125/80   \n",
      "325                       30             3       Normal         125/80   \n",
      "327                       30             3       Normal         125/80   \n",
      "329                       30             3       Normal         125/80   \n",
      "330                       30             3       Normal         125/80   \n",
      "338                       30             3       Normal         125/80   \n",
      "\n",
      "     Heart Rate  Daily Steps Sleep Disorder  \n",
      "298          65         5000           None  \n",
      "299          65         5000           None  \n",
      "300          65         5000           None  \n",
      "301          65         5000           None  \n",
      "316          65         5000           None  \n",
      "317          65         5000           None  \n",
      "320          65         5000           None  \n",
      "323          65         5000           None  \n",
      "325          65         5000           None  \n",
      "327          65         5000           None  \n",
      "329          65         5000           None  \n",
      "330          65         5000           None  \n",
      "338          65         5000           None  \n"
     ]
    }
   ],
   "source": [
    "longest_sleepers = df[df['Sleep Duration'] == max_sleep_duration]\n",
    "print(longest_sleepers)"
   ]
  },
  {
   "cell_type": "code",
   "execution_count": 7,
   "id": "06c49c90",
   "metadata": {},
   "outputs": [
    {
     "data": {
      "image/png": "[encoded data removed]",
      "text/plain": [
       "<Figure size 640x480 with 1 Axes>"
      ]
     },
     "metadata": {},
     "output_type": "display_data"
    }
   ],
   "source": [
    "max_sleep_duration = df['Sleep Duration'].max()\n",
    "longest_sleepers = df[df['Sleep Duration'] == max_sleep_duration]\n",
    "\n",
    "# Create a bar graph of the longest sleepers\\n\",\n",
    "plt.bar(longest_sleepers['Age'], longest_sleepers['Sleep Duration'])\n",
    "plt.title(\"Longest Sleepers\")\n",
    "plt.xlabel(\"Age\")\n",
    "plt.ylabel(\"Sleep Duration\")\n",
    "plt.show()"
   ]
  },
  {
   "cell_type": "code",
   "execution_count": null,
   "id": "705c3ee7",
   "metadata": {},
   "outputs": [],
   "source": []
  }
 ],
 "metadata": {
  "kernelspec": {
   "display_name": "Python 3 (ipykernel)",
   "language": "python",
   "name": "python3"
  },
  "language_info": {
   "codemirror_mode": {
    "name": "ipython",
    "version": 3
   },
   "file_extension": ".py",
   "mimetype": "text/x-python",
   "name": "python",
   "nbconvert_exporter": "python",
   "pygments_lexer": "ipython3",
   "version": "3.10.11"
  }
 },
 "nbformat": 4,
 "nbformat_minor": 5
}
